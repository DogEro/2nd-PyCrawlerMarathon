{
 "cells": [
  {
   "cell_type": "markdown",
   "metadata": {},
   "source": [
    "## 1.（簡答題）檔案、API、爬蟲三種取得資料方式有什麼不同？"
   ]
  },
  {
   "cell_type": "markdown",
   "metadata": {},
   "source": [
    "### Ans\n",
    "檔案將資料包成如.csv、.json之類的格式\n",
    "API有程式化的連接口可供分析師直接截取\n",
    "網路爬蟲沒有檔案及接口可下載，而是用爬蟲程式去各個網頁上抓\n",
    "其中，檔案及API為主動提供給分析師的資料，已經過授權，較沒有使用上的阻礙及問題\n",
    "但是網路爬蟲由於抓的是網頁上被動公開的資料，未經授權，所以通常只會在沒有檔案及API可用時使用"
   ]
  },
  {
   "cell_type": "markdown",
   "metadata": {},
   "source": [
    "## 2.（實作）完成一個程式，需滿足下列需求：\n",
    "\n",
    "「下載指定檔案到 Data 資料夾，存成檔名 Homework.txt」的檔案網址：https://www.w3.org/TR/PNG/iso_8859-1.txt 或任一個 .txt 的檔案網址\n",
    "\n",
    "檢查 Data 資料夾是否有 Homework.txt 檔名之檔案\n",
    "\n",
    "將「Hello World」字串覆寫到 Homework.txt 檔案\n",
    "\n",
    "檢查 Homework.txt 檔案字數是否符合 Hello World 字數"
   ]
  },
  {
   "cell_type": "code",
   "execution_count": 1,
   "metadata": {},
   "outputs": [],
   "source": [
    "from urllib.request import urlretrieve\n",
    "import os #好像沒用到sys我就沒import了\n",
    "os.makedirs(\".\\Data\", exist_ok = True) #建資料夾"
   ]
  },
  {
   "cell_type": "code",
   "execution_count": 44,
   "metadata": {},
   "outputs": [
    {
     "data": {
      "text/plain": [
       "('./Data/Why.txt', <http.client.HTTPMessage at 0x24b17e50548>)"
      ]
     },
     "execution_count": 44,
     "metadata": {},
     "output_type": "execute_result"
    }
   ],
   "source": [
    "urlretrieve(\"https://www.w3.org/TR/PNG/iso_8859-1.txt\", \"./Data/Homework.txt\")\n",
    "urlretrieve(\"https://www.w3.org/TR/PNG/iso_8859-1.txt\", \"./Data/How.txt\") #測試用， don't mind\n",
    "urlretrieve(\"https://www.w3.org/TR/PNG/iso_8859-1.txt\", \"./Data/Why.txt\") #測試用， don't mind"
   ]
  },
  {
   "cell_type": "code",
   "execution_count": 57,
   "metadata": {},
   "outputs": [
    {
     "name": "stdout",
     "output_type": "stream",
     "text": [
      "Homework.txt   How.txt   Why.txt   "
     ]
    }
   ],
   "source": [
    "files = os.listdir(\".\\Data\")\n",
    "for txt in files: #瞄一下data裡面有哪些txt檔\n",
    "    if \".txt\" in txt:\n",
    "        print(txt, end = \"   \")"
   ]
  },
  {
   "cell_type": "code",
   "execution_count": 79,
   "metadata": {},
   "outputs": [
    {
     "name": "stdout",
     "output_type": "stream",
     "text": [
      "11\n"
     ]
    }
   ],
   "source": [
    "f = open(\"Homework.txt\",\"w\")\n",
    "hw = f.write(\"Hello World\") #覆寫囉\n",
    "f.close()\n",
    "\n",
    "print(hw)"
   ]
  },
  {
   "cell_type": "code",
   "execution_count": 80,
   "metadata": {},
   "outputs": [
    {
     "name": "stdout",
     "output_type": "stream",
     "text": [
      "Hello World\n"
     ]
    }
   ],
   "source": [
    "f = open(\"Homework.txt\",\"r\")\n",
    "check = f.read() #讀囉\n",
    "f.close()\n",
    "\n",
    "print(check)"
   ]
  },
  {
   "cell_type": "code",
   "execution_count": 82,
   "metadata": {},
   "outputs": [
    {
     "name": "stdout",
     "output_type": "stream",
     "text": [
      "I did it\n"
     ]
    }
   ],
   "source": [
    "if len(\"Hello World\") == len(check): #檢查字數有沒有一樣\n",
    "    print(\"I did it\")"
   ]
  }
 ],
 "metadata": {
  "kernelspec": {
   "display_name": "Python 3",
   "language": "python",
   "name": "python3"
  },
  "language_info": {
   "codemirror_mode": {
    "name": "ipython",
    "version": 3
   },
   "file_extension": ".py",
   "mimetype": "text/x-python",
   "name": "python",
   "nbconvert_exporter": "python",
   "pygments_lexer": "ipython3",
   "version": "3.7.4"
  }
 },
 "nbformat": 4,
 "nbformat_minor": 2
}
